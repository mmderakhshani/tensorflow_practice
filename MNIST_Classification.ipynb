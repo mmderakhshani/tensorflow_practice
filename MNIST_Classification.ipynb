{
  "nbformat": 4,
  "nbformat_minor": 0,
  "metadata": {
    "colab": {
      "name": "MNIST_Classification.ipynb",
      "version": "0.3.2",
      "provenance": [],
      "collapsed_sections": []
    },
    "kernelspec": {
      "name": "python3",
      "display_name": "Python 3"
    },
    "accelerator": "GPU"
  },
  "cells": [
    {
      "cell_type": "markdown",
      "metadata": {
        "id": "view-in-github",
        "colab_type": "text"
      },
      "source": [
        "[View in Colaboratory](https://colab.research.google.com/github/mmderakhshani/tensorflow_practice/blob/master/MNIST_Classification.ipynb)"
      ]
    },
    {
      "metadata": {
        "id": "odP3V7qvRQkq",
        "colab_type": "code",
        "colab": {
          "base_uri": "https://localhost:8080/",
          "height": 89
        },
        "outputId": "b9b05987-cc3a-4a15-857b-cd817410968c"
      },
      "cell_type": "code",
      "source": [
        "import tensorflow as tf\n",
        "from tensorflow.examples.tutorials.mnist import input_data\n",
        "\n",
        "mnist = input_data.read_data_sets(\"./data\", one_hot=True)\n",
        "\n",
        "n_nodes_hl1 = 500\n",
        "n_nodes_hl2 = 500\n",
        "n_nodes_hl3 = 500\n",
        "n_classes = 10\n",
        "batch_size = 100\n",
        "\n",
        "x = tf.placeholder('float', [None, 28*28])\n",
        "y = tf.placeholder('float')"
      ],
      "execution_count": 28,
      "outputs": [
        {
          "output_type": "stream",
          "text": [
            "Extracting ./data/train-images-idx3-ubyte.gz\n",
            "Extracting ./data/train-labels-idx1-ubyte.gz\n",
            "Extracting ./data/t10k-images-idx3-ubyte.gz\n",
            "Extracting ./data/t10k-labels-idx1-ubyte.gz\n"
          ],
          "name": "stdout"
        }
      ]
    },
    {
      "metadata": {
        "id": "ip28wzrjRkuq",
        "colab_type": "code",
        "colab": {}
      },
      "cell_type": "code",
      "source": [
        "def neural_network_model(data):                                                                                                                           \n",
        "\thidden_1_layer = {'weight': tf.Variable(tf.random_normal([784, n_nodes_hl1])),                                                                        \n",
        "\t               'bias': tf.Variable(tf.random_normal([n_nodes_hl1]))}\n",
        "\n",
        "\thidden_2_layer = {'weight': tf.Variable(tf.random_normal([n_nodes_hl1, n_nodes_hl2])),                                                                   \n",
        "\t               'bias': tf.Variable(tf.random_normal([n_nodes_hl2]))}                \n",
        "\n",
        "\thidden_3_layer = {'weight': tf.Variable(tf.random_normal([n_nodes_hl2, n_nodes_hl3])),                                                                  \n",
        "\t               'bias': tf.Variable(tf.random_normal([n_nodes_hl3]))}\n",
        "\n",
        "\toutput_layer = {'weight': tf.Variable(tf.random_normal([n_nodes_hl3, n_classes])),\n",
        "\t             'bias': tf.Variable(tf.random_normal([n_classes]))}\n",
        "\t                                                                           \n",
        "\tl1 = tf.add(tf.matmul(data, hidden_1_layer['weight']), hidden_1_layer['bias'])  \n",
        "\tl1 = tf.nn.relu(l1)                                                                                                \n",
        "\t                                                                                                                \n",
        "\tl2 = tf.add(tf.matmul(l1, hidden_2_layer['weight']), hidden_2_layer['bias'])                                       \n",
        "\tl2 = tf.nn.relu(l2)          \n",
        "\t                                                                         \n",
        "\tl3 = tf.add(tf.matmul(l2, hidden_3_layer['weight']), hidden_3_layer['bias'])  \n",
        "\tl3 = tf.nn.relu(l3)\n",
        "\t                                                                         \n",
        "\toutput = tf.add(tf.matmul(l3, output_layer['weight']), output_layer['bias'])           \n",
        "\treturn output"
      ],
      "execution_count": 0,
      "outputs": []
    },
    {
      "metadata": {
        "id": "E8uClOBJRsyg",
        "colab_type": "code",
        "colab": {}
      },
      "cell_type": "code",
      "source": [
        "def train_neural_network(x, hm_epochs = 12):\n",
        "  prediction = neural_network_model(x)\n",
        "  cost = tf.reduce_mean(tf.nn.softmax_cross_entropy_with_logits(logits = prediction, labels = y))\n",
        "  optimizer = tf.train.AdamOptimizer().minimize(cost)\n",
        "  with tf.Session() as sess:\n",
        "    sess.run(tf.global_variables_initializer())\n",
        "    for epoch in range(hm_epochs):\n",
        "      epoch_loss = 0\n",
        "      for _ in range(int(mnist.train.num_examples / batch_size)):\n",
        "        epoch_x, epoch_y = mnist.train.next_batch(batch_size)\n",
        "        _, c = sess.run([optimizer, cost], feed_dict = {x: epoch_x, y: epoch_y})\n",
        "        epoch_loss += c\n",
        "      epoch_loss /= int(mnist.train.num_examples)\n",
        "      print('Epoch', epoch, 'completed out of',hm_epochs,'loss:',epoch_loss)\n",
        "    correct = tf.equal(tf.argmax(prediction, 1), tf.argmax(y, 1))\n",
        "    accuracy = tf.reduce_mean(tf.cast(correct, 'float'))\n",
        "    print('Accuracy:',100. * accuracy.eval({x:mnist.test.images, y:mnist.test.labels}))"
      ],
      "execution_count": 0,
      "outputs": []
    },
    {
      "metadata": {
        "id": "ltTTFTzMpypU",
        "colab_type": "code",
        "colab": {
          "base_uri": "https://localhost:8080/",
          "height": 250
        },
        "outputId": "20661fdf-826b-4260-8766-e52ba20742a0"
      },
      "cell_type": "code",
      "source": [
        "train_neural_network(x)"
      ],
      "execution_count": 31,
      "outputs": [
        {
          "output_type": "stream",
          "text": [
            "Epoch 0 completed out of 12 loss: 30.273097955322264\n",
            "Epoch 1 completed out of 12 loss: 7.9873878215443\n",
            "Epoch 2 completed out of 12 loss: 4.337780185734142\n",
            "Epoch 3 completed out of 12 loss: 2.4989710354685783\n",
            "Epoch 4 completed out of 12 loss: 1.533788921814615\n",
            "Epoch 5 completed out of 12 loss: 1.0219477713048457\n",
            "Epoch 6 completed out of 12 loss: 0.7104115459100767\n",
            "Epoch 7 completed out of 12 loss: 0.5434964174850421\n",
            "Epoch 8 completed out of 12 loss: 0.38602016373059966\n",
            "Epoch 9 completed out of 12 loss: 0.41986410658442713\n",
            "Epoch 10 completed out of 12 loss: 0.3887971198924323\n",
            "Epoch 11 completed out of 12 loss: 0.3328870750458403\n",
            "Accuracy: 95.24999856948853\n"
          ],
          "name": "stdout"
        }
      ]
    },
    {
      "metadata": {
        "id": "SaJ3ubIep2km",
        "colab_type": "code",
        "colab": {}
      },
      "cell_type": "code",
      "source": [
        ""
      ],
      "execution_count": 0,
      "outputs": []
    }
  ]
}