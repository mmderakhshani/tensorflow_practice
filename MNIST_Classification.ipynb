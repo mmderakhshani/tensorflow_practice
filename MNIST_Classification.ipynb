{
  "nbformat": 4,
  "nbformat_minor": 0,
  "metadata": {
    "colab": {
      "name": "MNIST_Classification.ipynb",
      "version": "0.3.2",
      "provenance": [],
      "collapsed_sections": []
    },
    "kernelspec": {
      "name": "python3",
      "display_name": "Python 3"
    },
    "accelerator": "GPU"
  },
  "cells": [
    {
      "cell_type": "markdown",
      "metadata": {
        "id": "view-in-github",
        "colab_type": "text"
      },
      "source": [
        "[View in Colaboratory](https://colab.research.google.com/github/mmderakhshani/tensorflow_practice/blob/master/MNIST_Classification.ipynb)"
      ]
    },
    {
      "metadata": {
        "id": "odP3V7qvRQkq",
        "colab_type": "code",
        "colab": {}
      },
      "cell_type": "code",
      "source": [
        "import tensorflow as tf\n",
        "from tensorflow.examples.tutorials.mnist import input_data\n",
        "\n",
        "mnist = input_data.read_data_sets(\"./data\", one_hot=True)\n",
        "\n",
        "n_nodes_hl1 = 500\n",
        "n_nodes_hl2 = 500\n",
        "n_nodes_hl3 = 500\n",
        "n_classes = 10\n",
        "batch_size = 100\n",
        "\n",
        "x = tf.placeholder('float', [None, 28*28])\n",
        "y = tf.placeholder('float')"
      ],
      "execution_count": 0,
      "outputs": []
    },
    {
      "metadata": {
        "id": "ip28wzrjRkuq",
        "colab_type": "code",
        "colab": {}
      },
      "cell_type": "code",
      "source": [
        "def neural_network_model(data):                                                                                                                           \n",
        "\thidden_1_layer = {'weight': tf.Variable(tf.random_normal([784, n_nodes_hl1])),                                                                        \n",
        "\t               'bias': tf.Variable(tf.random_normal([n_nodes_hl1]))}\n",
        "\n",
        "\thidden_2_layer = {'weight': tf.Variable(tf.random_normal([n_nodes_hl1, n_nodes_hl2])),                                                                   \n",
        "\t               'bias': tf.Variable(tf.random_normal([n_nodes_hl2]))}                \n",
        "\n",
        "\thidden_3_layer = {'weight': tf.Variable(tf.random_normal([n_nodes_hl2, n_nodes_hl3])),                                                                  \n",
        "\t               'bias': tf.Variable(tf.random_normal([n_nodes_hl3]))}\n",
        "\n",
        "\toutput_layer = {'weight': tf.Variable(tf.random_normal([n_nodes_hl3, n_classes])),\n",
        "\t             'bias': tf.Variable(tf.random_normal([n_classes]))}\n",
        "\t                                                                           \n",
        "\tl1 = tf.add(tf.matmul(data, hidden_1_layer['weight']), hidden_1_layer['bias'])  \n",
        "\tl1 = tf.nn.relu(l1)                                                                                                \n",
        "\t                                                                                                                \n",
        "\tl2 = tf.add(tf.matmul(l1, hidden_2_layer['weight']), hidden_2_layer['bias'])                                       \n",
        "\tl2 = tf.nn.relu(l2)          \n",
        "\t                                                                         \n",
        "\tl3 = tf.add(tf.matmul(l2, hidden_3_layer['weight']), hidden_3_layer['bias'])  \n",
        "\tl3 = tf.nn.relu(l3)\n",
        "\t                                                                         \n",
        "\toutput = tf.add(tf.matmul(l3, output_layer['weight']), output_layer['bias'])           \n",
        "\treturn output"
      ],
      "execution_count": 0,
      "outputs": []
    },
    {
      "metadata": {
        "id": "E8uClOBJRsyg",
        "colab_type": "code",
        "colab": {}
      },
      "cell_type": "code",
      "source": [
        "def train_neural_network(x, hm_epochs = 12):\n",
        "  prediction = neural_network_model(x)\n",
        "  cost = tf.reduce_mean(tf.nn.softmax_cross_entropy_with_logits(logits = prediction, labels = y))\n",
        "  optimizer = tf.train.AdamOptimizer().minimize(cost)\n",
        "  with tf.Session() as sess:\n",
        "    sess.run(tf.global_variables_initializer())\n",
        "    for epoch in range(hm_epochs):\n",
        "      epoch_loss = 0\n",
        "      for _ in range(int(mnist.train.num_examples / batch_size)):\n",
        "        epoch_x, epoch_y = mnist.train.next_batch(batch_size)\n",
        "        _, c = sess.run([optimizer, cost], feed_dict = {x: epoch_x, y: epoch_y})\n",
        "        epoch_loss += c\n",
        "      epoch_loss /= int(mnist.train.num_examples)\n",
        "      print('Epoch', epoch, 'completed out of',hm_epochs,'loss:',epoch_loss)\n",
        "    correct = tf.equal(tf.argmax(prediction, 1), tf.argmax(y, 1))\n",
        "    accuracy = tf.reduce_mean(tf.cast(correct, 'float'))\n",
        "    print('Accuracy:',100. * accuracy.eval({x:mnist.test.images, y:mnist.test.labels}))"
      ],
      "execution_count": 0,
      "outputs": []
    }
  ]
}